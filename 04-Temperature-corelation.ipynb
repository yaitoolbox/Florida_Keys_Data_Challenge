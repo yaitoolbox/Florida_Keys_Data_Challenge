{
 "cells": [
  {
   "cell_type": "markdown",
   "id": "c72348d0",
   "metadata": {},
   "source": [
    "# Temperature_Correlation\n",
    "\n",
    "## Step 1: Load Coral Cover Data\n",
    "\n",
    "**Purpose:**\n",
    "Load the preprocessed coral cover data for merging with temperature data.\n",
    "\n",
    "**Input:**\n",
    "* `processed_stony_coral.csv` (from \"temp/\" directory)\n",
    "\n",
    "**Output:**\n",
    "* A Pandas DataFrame containing the coral cover data.\n",
    "\n",
    "**Analysis Steps:**\n",
    "1.  Load the `processed_stony_coral.csv` file into a Pandas DataFrame.\n",
    "2.  Display the first 5 rows of the DataFrame."
   ]
  },
  {
   "cell_type": "code",
   "execution_count": 1,
   "id": "fe7a020d",
   "metadata": {},
   "outputs": [
    {
     "name": "stdout",
     "output_type": "stream",
     "text": [
      "   OID_  year               Date Subregion Habitat  SiteID     SiteName  \\\n",
      "0     1  1996  7/25/1996 0:00:00        UK      HB      10  Rattlesnake   \n",
      "1     2  1996  7/25/1996 0:00:00        UK      HB      10  Rattlesnake   \n",
      "2     3  1996  7/25/1996 0:00:00        UK      HB      10  Rattlesnake   \n",
      "3     4  1996  7/25/1996 0:00:00        UK      HB      10  Rattlesnake   \n",
      "4     5  1996  7/22/1996 0:00:00        UK      HB      11   El Radabob   \n",
      "\n",
      "   StationID Surveyed_all_years  points  ...  Porites_porites_complex  \\\n",
      "0        101                  N     479  ...                      0.0   \n",
      "1        102                  N     525  ...                      0.0   \n",
      "2        103                  N     558  ...                      0.0   \n",
      "3        104                  N     446  ...                      0.0   \n",
      "4        111                  N     450  ...                      0.0   \n",
      "\n",
      "   Pseudodiploria_clivosa  Pseudodiploria_strigosa  Scleractinia  Scolymia_sp  \\\n",
      "0                     0.0                      0.0           0.0          0.0   \n",
      "1                     0.0                      0.0           0.0          0.0   \n",
      "2                     0.0                      0.0           0.0          0.0   \n",
      "3                     0.0                      0.0           0.0          0.0   \n",
      "4                     0.0                      0.0           0.0          0.0   \n",
      "\n",
      "   Siderastrea_radians  Siderastrea_siderea  Solenastrea_bournoni  \\\n",
      "0                  0.0                  0.0                   0.0   \n",
      "1                  0.0                  0.0                   0.0   \n",
      "2                  0.0                  0.0                   0.0   \n",
      "3                  0.0                  0.0                   0.0   \n",
      "4                  0.0                  0.0                   0.0   \n",
      "\n",
      "   Stephanocoenia_intersepta  Undaria_agaricites_complex  \n",
      "0                        0.0                         0.0  \n",
      "1                        0.0                         0.0  \n",
      "2                        0.0                         0.0  \n",
      "3                        0.0                         0.0  \n",
      "4                        0.0                         0.0  \n",
      "\n",
      "[5 rows x 50 columns]\n"
     ]
    }
   ],
   "source": [
    "import pandas as pd\n",
    "import os\n",
    "\n",
    "# Define the directory containing the processed data\n",
    "data_dir = \"C:\\\\Users\\\\vijai\\\\Desktop\\\\Florida\"  # Update this if your directory is different\n",
    "\n",
    "# Load the coral cover data\n",
    "coral_df = pd.read_csv(os.path.join(data_dir, \"processed_stony_coral.csv\"))\n",
    "\n",
    "# Display the first 5 rows\n",
    "print(coral_df.head())"
   ]
  },
  {
   "cell_type": "markdown",
   "id": "0440cc37",
   "metadata": {},
   "source": [
    "## Step 2: Load Temperature Data\n",
    "\n",
    "**Purpose:**\n",
    "Load the temperature data for merging with coral cover data.\n",
    "\n",
    "**Input:**\n",
    "* Temperature data CSV file (replace `\"path/to/temperature_data.csv\"` with the actual path)\n",
    "\n",
    "**Output:**\n",
    "* A Pandas DataFrame containing the temperature data.\n",
    "\n",
    "**Analysis Steps:**\n",
    "1.  Load the temperature data CSV file into a Pandas DataFrame.\n",
    "2.  Display the first 5 rows of the temperature DataFrame.\n",
    "3.  Ensure there is a 'Year' column (or a date column that can be used to derive 'Year') and a temperature column.\n"
   ]
  },
  {
   "cell_type": "code",
   "execution_count": 4,
   "id": "e5ecf4bb",
   "metadata": {},
   "outputs": [
    {
     "name": "stdout",
     "output_type": "stream",
     "text": [
      "   OID_  SiteID    Site_name  year  Month  Day  Time  TempC  TempF\n",
      "0     1      10  Rattlesnake  2020      6   12  11.0  29.59  85.26\n",
      "1     2      10  Rattlesnake  2020      6   12  12.0  29.76  85.57\n",
      "2     3      10  Rattlesnake  2020      6   12  13.0  29.81  85.66\n",
      "3     4      10  Rattlesnake  2020      6   12  14.0  30.19  86.34\n",
      "4     5      10  Rattlesnake  2020      6   12  15.0  30.34  86.61\n",
      "<class 'pandas.core.frame.DataFrame'>\n",
      "RangeIndex: 5105020 entries, 0 to 5105019\n",
      "Data columns (total 9 columns):\n",
      " #   Column     Dtype  \n",
      "---  ------     -----  \n",
      " 0   OID_       int64  \n",
      " 1   SiteID     int64  \n",
      " 2   Site_name  object \n",
      " 3   year       int64  \n",
      " 4   Month      int64  \n",
      " 5   Day        int64  \n",
      " 6   Time       float64\n",
      " 7   TempC      float64\n",
      " 8   TempF      float64\n",
      "dtypes: float64(3), int64(5), object(1)\n",
      "memory usage: 350.5+ MB\n",
      "None\n"
     ]
    }
   ],
   "source": [
    "# Load the temperature data\n",
    "temp_df = pd.read_csv(\"C:/Users/vijai/Desktop/Florida/processed_temperature.csv\")  # Replace with the actual path\n",
    "\n",
    "# Display the first 5 rows of the temperature DataFrame\n",
    "print(temp_df.head())\n",
    "\n",
    "# Display information about the temperature DataFrame\n",
    "print(temp_df.info())"
   ]
  },
  {
   "cell_type": "markdown",
   "id": "727f22c6",
   "metadata": {},
   "source": [
    "## Step 3: Merge DataFrames\n",
    "\n",
    "**Purpose:**\n",
    "Merge the coral cover DataFrame with the temperature DataFrame based on the 'Year' column.\n",
    "\n",
    "**Input:**\n",
    "* Pandas DataFrame `coral_df` (from Step 1)\n",
    "* Pandas DataFrame `temp_df` (from Step 2)\n",
    "\n",
    "**Output:**\n",
    "* A merged Pandas DataFrame containing both coral cover and temperature data.\n",
    "\n",
    "**Analysis Steps:**\n",
    "1.  Merge `coral_df` and `temp_df` using an inner join on the 'Year' column. This will ensure that we only have data for the years present in both DataFrames.\n",
    "2.  Display the first 5 rows of the merged DataFrame."
   ]
  },
  {
   "cell_type": "code",
   "execution_count": 8,
   "id": "c40041d7",
   "metadata": {},
   "outputs": [],
   "source": [
    "merged_df = pd.merge(annual_coral_cover, temp_df, left_on='year', right_on='year', how='inner')"
   ]
  },
  {
   "cell_type": "code",
   "execution_count": 9,
   "id": "d3ea4127",
   "metadata": {},
   "outputs": [
    {
     "name": "stdout",
     "output_type": "stream",
     "text": [
      "Columns in annual_coral_cover: Index(['year', 'Mean_Coral_Cover'], dtype='object')\n",
      "Columns in temp_df: Index(['OID_', 'SiteID', 'Site_name', 'year', 'Month', 'Day', 'Time', 'TempC',\n",
      "       'TempF'],\n",
      "      dtype='object')\n"
     ]
    }
   ],
   "source": [
    "print(\"Columns in annual_coral_cover:\", annual_coral_cover.columns)\n",
    "print(\"Columns in temp_df:\", temp_df.columns)"
   ]
  },
  {
   "cell_type": "code",
   "execution_count": 10,
   "id": "64101123",
   "metadata": {},
   "outputs": [
    {
     "name": "stdout",
     "output_type": "stream",
     "text": [
      "   year  Mean_Coral_Cover    OID_  SiteID Site_name  Month  Day  Time  TempC  \\\n",
      "0  2002         48.795411  293980      14  Long Key     12    3  13.0  23.49   \n",
      "1  2002         48.795411  293981      14  Long Key     12    3  14.0  23.42   \n",
      "2  2002         48.795411  293982      14  Long Key     12    3  15.0  23.44   \n",
      "3  2002         48.795411  293983      14  Long Key     12    3  16.0  23.49   \n",
      "4  2002         48.795411  293984      14  Long Key     12    3  17.0  23.49   \n",
      "\n",
      "   TempF  \n",
      "0  74.29  \n",
      "1  74.16  \n",
      "2  74.20  \n",
      "3  74.29  \n",
      "4  74.29  \n",
      "<class 'pandas.core.frame.DataFrame'>\n",
      "RangeIndex: 5055410 entries, 0 to 5055409\n",
      "Data columns (total 10 columns):\n",
      " #   Column            Dtype  \n",
      "---  ------            -----  \n",
      " 0   year              int64  \n",
      " 1   Mean_Coral_Cover  float64\n",
      " 2   OID_              int64  \n",
      " 3   SiteID            int64  \n",
      " 4   Site_name         object \n",
      " 5   Month             int64  \n",
      " 6   Day               int64  \n",
      " 7   Time              float64\n",
      " 8   TempC             float64\n",
      " 9   TempF             float64\n",
      "dtypes: float64(4), int64(5), object(1)\n",
      "memory usage: 385.7+ MB\n",
      "None\n"
     ]
    }
   ],
   "source": [
    "# Merge with temperature data\n",
    "merged_df = pd.merge(annual_coral_cover, temp_df, on='year', how='inner')\n",
    "\n",
    "print(merged_df.head())\n",
    "print(merged_df.info())"
   ]
  },
  {
   "cell_type": "markdown",
   "id": "844ab437",
   "metadata": {},
   "source": [
    "## Step 4: Calculate Annual Mean Temperature\n",
    "\n",
    "**Purpose:**\n",
    "Calculate the annual mean temperature from the `temp_df`.\n",
    "\n",
    "**Input:**\n",
    "* Pandas DataFrame `temp_df`\n",
    "\n",
    "**Output:**\n",
    "* A Pandas DataFrame with 'year' and 'Annual_Mean_Temperature'.\n",
    "\n",
    "**Analysis Steps:**\n",
    "1.  Group `temp_df` by the 'year' column.\n",
    "2.  Calculate the mean of the 'TempC' column for each year.\n",
    "3.  Reset the index of the resulting Series to make 'year' a column again.\n",
    "4.  Rename the 'TempC' column to 'Annual_Mean_Temperature'."
   ]
  },
  {
   "cell_type": "code",
   "execution_count": 11,
   "id": "509c5fd2",
   "metadata": {},
   "outputs": [
    {
     "name": "stdout",
     "output_type": "stream",
     "text": [
      "   year  Annual_Mean_Temperature\n",
      "0  2002                23.128242\n",
      "1  2003                26.516148\n",
      "2  2004                26.203738\n",
      "3  2005                25.911418\n",
      "4  2006                26.134004\n",
      "<class 'pandas.core.frame.DataFrame'>\n",
      "RangeIndex: 23 entries, 0 to 22\n",
      "Data columns (total 2 columns):\n",
      " #   Column                   Non-Null Count  Dtype  \n",
      "---  ------                   --------------  -----  \n",
      " 0   year                     23 non-null     int64  \n",
      " 1   Annual_Mean_Temperature  23 non-null     float64\n",
      "dtypes: float64(1), int64(1)\n",
      "memory usage: 500.0 bytes\n",
      "None\n"
     ]
    }
   ],
   "source": [
    "# Calculate annual mean temperature (using Celsius)\n",
    "annual_temp = temp_df.groupby('year')['TempC'].mean().reset_index(name='Annual_Mean_Temperature')\n",
    "\n",
    "# Display the resulting DataFrame\n",
    "print(annual_temp.head())\n",
    "print(annual_temp.info())"
   ]
  },
  {
   "cell_type": "markdown",
   "id": "89d51647",
   "metadata": {},
   "source": [
    "## Step 5: Merge Annual Data\n",
    "\n",
    "**Purpose:**\n",
    "Merge the annual mean coral cover and annual mean temperature DataFrames.\n",
    "\n",
    "**Input:**\n",
    "* Pandas DataFrame `annual_coral_cover`\n",
    "* Pandas DataFrame `annual_temp`\n",
    "\n",
    "**Output:**\n",
    "* A merged Pandas DataFrame containing 'year', 'Mean_Coral_Cover', and 'Annual_Mean_Temperature'.\n",
    "\n",
    "**Analysis Steps:**\n",
    "1.  Merge `annual_coral_cover` and `annual_temp` using an inner join on the 'year' column.\n",
    "2.  Display the first 5 rows of the merged DataFrame."
   ]
  },
  {
   "cell_type": "code",
   "execution_count": 12,
   "id": "7ccb584b",
   "metadata": {},
   "outputs": [
    {
     "name": "stdout",
     "output_type": "stream",
     "text": [
      "   year  Mean_Coral_Cover  Annual_Mean_Temperature\n",
      "0  2002         48.795411                23.128242\n",
      "1  2003         52.714265                26.516148\n",
      "2  2004         54.559063                26.203738\n",
      "3  2005         57.301961                25.911418\n",
      "4  2006         59.175944                26.134004\n",
      "<class 'pandas.core.frame.DataFrame'>\n",
      "RangeIndex: 22 entries, 0 to 21\n",
      "Data columns (total 3 columns):\n",
      " #   Column                   Non-Null Count  Dtype  \n",
      "---  ------                   --------------  -----  \n",
      " 0   year                     22 non-null     int64  \n",
      " 1   Mean_Coral_Cover         22 non-null     float64\n",
      " 2   Annual_Mean_Temperature  22 non-null     float64\n",
      "dtypes: float64(2), int64(1)\n",
      "memory usage: 660.0 bytes\n",
      "None\n"
     ]
    }
   ],
   "source": [
    "# Merge annual coral cover and annual temperature data\n",
    "annual_merged_df = pd.merge(annual_coral_cover, annual_temp, on='year', how='inner')\n",
    "\n",
    "# Display the first 5 rows of the merged DataFrame\n",
    "print(annual_merged_df.head())\n",
    "\n",
    "# Display information about the merged DataFrame\n",
    "print(annual_merged_df.info())"
   ]
  },
  {
   "cell_type": "markdown",
   "id": "54dd5748",
   "metadata": {},
   "source": [
    "## Step 6: Calculate Correlations\n",
    "\n",
    "**Purpose:**\n",
    "Calculate the Pearson and Spearman correlation coefficients between annual mean coral cover and annual mean temperature.\n",
    "\n",
    "**Input:**\n",
    "* Pandas DataFrame `annual_merged_df`\n",
    "\n",
    "**Output:**\n",
    "* Pearson correlation coefficient.\n",
    "* Spearman correlation coefficient.\n",
    "\n",
    "**Analysis Steps:**\n",
    "1.  Use the `.corr()` method on the 'Mean\\_Coral\\_Cover' and 'Annual\\_Mean\\_Temperature' columns of `annual_merged_df` to calculate the Pearson correlation.\n",
    "2.  Use the `.corr(method='spearman')` method on the same columns to calculate the Spearman correlation.\n",
    "3.  Print the calculated correlation coefficients."
   ]
  },
  {
   "cell_type": "code",
   "execution_count": 13,
   "id": "e7c3c276",
   "metadata": {},
   "outputs": [
    {
     "name": "stdout",
     "output_type": "stream",
     "text": [
      "Pearson Correlation: 0.712\n",
      "Spearman Correlation: 0.802\n"
     ]
    }
   ],
   "source": [
    "# Calculate Pearson correlation\n",
    "pearson_corr = annual_merged_df['Mean_Coral_Cover'].corr(annual_merged_df['Annual_Mean_Temperature'], method='pearson')\n",
    "print(f\"Pearson Correlation: {pearson_corr:.3f}\")\n",
    "\n",
    "# Calculate Spearman correlation\n",
    "spearman_corr = annual_merged_df['Mean_Coral_Cover'].corr(annual_merged_df['Annual_Mean_Temperature'], method='spearman')\n",
    "print(f\"Spearman Correlation: {spearman_corr:.3f}\")"
   ]
  },
  {
   "cell_type": "markdown",
   "id": "e23897ea",
   "metadata": {},
   "source": [
    "**Pearson Correlation (0.712)**: This indicates a strong positive linear relationship between the annual mean temperature and the annual mean coral cover. As the annual mean temperature tends to increase, the annual mean coral cover also tends to increase in a roughly linear fashion. The value is closer to 1 than 0, suggesting a strong positive association.\n",
    "\n",
    "**Spearman Correlation (0.802)**: This indicates a very strong positive monotonic relationship between the annual mean temperature and the annual mean coral cover. This means that as the annual mean temperature increases, the annual mean coral cover also tends to increase, although not necessarily at a constant linear rate. The Spearman correlation is slightly higher than the Pearson correlation, suggesting that while there is a strong linear trend, the relationship might not be perfectly linear and could involve some non-linear components where the variables consistently move in the same direction."
   ]
  },
  {
   "cell_type": "markdown",
   "id": "6103ccf0",
   "metadata": {},
   "source": [
    "## Step 7: Generate Scatter Plot\n",
    "\n",
    "**Purpose:**\n",
    "Generate a scatter plot to visualize the relationship between annual mean temperature and annual mean coral cover.\n",
    "\n",
    "**Input:**\n",
    "* Pandas DataFrame `annual_merged_df`\n",
    "\n",
    "**Output:**\n",
    "* A scatter plot showing 'Annual_Mean_Temperature' on the x-axis and 'Mean_Coral_Cover' on the y-axis.\n",
    "\n",
    "**Analysis Steps:**\n",
    "1.  Use Matplotlib to create a scatter plot with 'Annual_Mean_Temperature' on the x-axis and 'Mean_Coral_Cover' on the y-axis from the `annual_merged_df`.\n",
    "2.  Add labels to the axes and a title to the plot for clarity.\n",
    "3.  Optionally, add a trendline to further visualize the relationship.\n",
    "4.  Display the plot."
   ]
  },
  {
   "cell_type": "code",
   "execution_count": 14,
   "id": "7bd3b793",
   "metadata": {},
   "outputs": [
    {
     "data": {
      "image/png": "[encoded data removed]",
      "text/plain": [
       "<Figure size 1000x600 with 1 Axes>"
      ]
     },
     "metadata": {},
     "output_type": "display_data"
    }
   ],
   "source": [
    "import matplotlib.pyplot as plt\n",
    "import seaborn as sns\n",
    "\n",
    "# Create the scatter plot\n",
    "plt.figure(figsize=(10, 6))\n",
    "sns.scatterplot(x='Annual_Mean_Temperature', y='Mean_Coral_Cover', data=annual_merged_df)\n",
    "\n",
    "# Add labels and title\n",
    "plt.xlabel('Annual Mean Temperature (°C)')\n",
    "plt.ylabel('Mean Coral Cover')\n",
    "plt.title('Scatter Plot of Annual Mean Temperature vs. Mean Coral Cover')\n",
    "plt.grid(True)\n",
    "\n",
    "# Optional: Add a trendline (linear regression fit)\n",
    "sns.regplot(x='Annual_Mean_Temperature', y='Mean_Coral_Cover', data=annual_merged_df, scatter=False, color='red')\n",
    "\n",
    "# Display the plot\n",
    "plt.show()"
   ]
  },
  {
   "cell_type": "code",
   "execution_count": null,
   "id": "c78fa5cf",
   "metadata": {},
   "outputs": [],
   "source": []
  }
 ],
 "metadata": {
  "kernelspec": {
   "display_name": "Python 3 (ipykernel)",
   "language": "python",
   "name": "python3"
  },
  "language_info": {
   "codemirror_mode": {
    "name": "ipython",
    "version": 3
   },
   "file_extension": ".py",
   "mimetype": "text/x-python",
   "name": "python",
   "nbconvert_exporter": "python",
   "pygments_lexer": "ipython3",
   "version": "3.11.5"
  }
 },
 "nbformat": 4,
 "nbformat_minor": 5
}
